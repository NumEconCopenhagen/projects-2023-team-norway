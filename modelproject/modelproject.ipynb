{
 "cells": [
  {
   "attachments": {},
   "cell_type": "markdown",
   "metadata": {},
   "source": [
    "\n",
    "# MODEL PROJECT\n",
    "## Model Description\n",
    "\n",
    "**Purpose**: This model describes the spread of an infectious disease and can be used to make important policy decisions when faced with an epidemic or pandemic, such as the covid-19 pandemic. Further, it can be used as a tool to see how diseases affect the behaviour of housholds regarding consumption. This model was also used by the \"Økonomiske Råd\" during covid when analyzing the effect of the pandemic on the economy. SIR models have recieved increased attention due to the pandemic. \n",
    "\n",
    "**Set up**: The population is divided into three different groups. \n",
    "- Susceptible ($S$), those who possible can get the disease\n",
    "- Infectious ($I$), those who are infected by the disease and thus can spread it to other people\n",
    "- Recovered ($R$), those who have gone through sickness and are assumed to be immune and cannot get disease again\n",
    "- Population size ($N$) is equal to $N = S + I + R$. We assume that it is constant over time, even though there is also deaths due to the disease. \n",
    "- $\\beta$ is the infection rate. Indicating the probability of becoming infected when you have been in contact with an infected person.\n",
    "- $\\gamma$ is the recovery rate, indicating how long it takes before the person is recoves and is immune against new infections. \n",
    "- $\\mu$ is the mortality rate of the disease. \n",
    "- $dS_{v}/dt$ is the vaccination rate\n",
    "- $V$ represents how many individuals are vaccinated. \n",
    "\n",
    "The model can be expressed by these equations: \n",
    "\n",
    "**Equations**: \n",
    "$$\\begin{aligned}\n",
    "\\frac{dS}{dt} &= -\\frac{\\beta S I}{N} - \\frac{dS_{v}}{dt} \\\\\n",
    "\\frac{dI}{dt} &= \\frac{\\beta S I}{N} - (\\gamma + \\mu) I \\\\\n",
    "\\frac{dR}{dt} &= \\gamma I \\\\\n",
    "\\frac{dD}{dt} &= \\mu I \\\\\n",
    "\\frac{dV}{dt} &= \\frac{dS_{v}}{dt}\n",
    "\\end{aligned}$$\n",
    "\n",
    "The first equation indicates how fast people get infected. The second represents the change in the number of infectious individuals, taking into account the infection rate and the recovery rate, and lastly also the mortality rate. The fourth equation represents the recovery rate. The fifth equation represents the vaccination rate. "
   ]
  },
  {
   "attachments": {},
   "cell_type": "markdown",
   "metadata": {},
   "source": [
    "## Solving the model\n",
    "### Without a Vaccination Program\n",
    "\n",
    "As can be seen in the following graph, witha given description of the state of the world and of the virus, out model is able to illustrate how the infection will spread in the population before. As can be seen, the re will be a natural herd immunity, however, the difference between the two states comes more to show when comparing to the state with vaccines. "
   ]
  },
  {
   "cell_type": "code",
   "execution_count": 11,
   "metadata": {},
   "outputs": [
    {
     "data": {
      "application/vnd.jupyter.widget-view+json": {
       "model_id": "4e435df79d3745919bca678ec80982f0",
       "version_major": 2,
       "version_minor": 0
      },
      "text/plain": [
       "IntSlider(value=100000, description='Population:', max=1000000, min=1000, step=1000)"
      ]
     },
     "metadata": {},
     "output_type": "display_data"
    },
    {
     "data": {
      "application/vnd.jupyter.widget-view+json": {
       "model_id": "1e2d22271055450d9570193c9aadcf13",
       "version_major": 2,
       "version_minor": 0
      },
      "text/plain": [
       "FloatSlider(value=0.4, description='Infection Rate:', max=2.0, min=0.1)"
      ]
     },
     "metadata": {},
     "output_type": "display_data"
    },
    {
     "data": {
      "application/vnd.jupyter.widget-view+json": {
       "model_id": "4d863a95b51d49be99a2e1860f7da69d",
       "version_major": 2,
       "version_minor": 0
      },
      "text/plain": [
       "FloatSlider(value=0.1, description='Recovery Rate:', max=0.5, min=0.01, step=0.01)"
      ]
     },
     "metadata": {},
     "output_type": "display_data"
    },
    {
     "data": {
      "application/vnd.jupyter.widget-view+json": {
       "model_id": "92ae8766b72f402f866b66e6f751ead7",
       "version_major": 2,
       "version_minor": 0
      },
      "text/plain": [
       "IntSlider(value=100, description='Initial Infected:', max=1000, min=10, step=10)"
      ]
     },
     "metadata": {},
     "output_type": "display_data"
    },
    {
     "data": {
      "application/vnd.jupyter.widget-view+json": {
       "model_id": "ade2b19dbaa34a3e8444cd60b0be707e",
       "version_major": 2,
       "version_minor": 0
      },
      "text/plain": [
       "FloatSlider(value=0.015, description='Mortality Rate:', max=0.1, min=0.001, step=0.001)"
      ]
     },
     "metadata": {},
     "output_type": "display_data"
    },
    {
     "data": {
      "application/vnd.jupyter.widget-view+json": {
       "model_id": "2ebfff6e234943d09c771c6225db4434",
       "version_major": 2,
       "version_minor": 0
      },
      "text/plain": [
       "Output()"
      ]
     },
     "metadata": {},
     "output_type": "display_data"
    }
   ],
   "source": [
    "import numpy as np\n",
    "import matplotlib.pyplot as plt\n",
    "from scipy.optimize import minimize_scalar\n",
    "%reload_ext autoreload\n",
    "from modelproject import SIRModel3\n",
    "import ipywidgets as widgets\n",
    "from IPython.display import display\n",
    "\n",
    "# Create an instance of the SIRModel3 class with the desired parameter values\n",
    "model = SIRModel3(population=100000, infection_rate=0.4, recovery_rate=0.1, initial_infected=100, mortality_rate=0.015)\n",
    "\n",
    "\n",
    "# Create interactive sliders for the model parameters\n",
    "population_slider = widgets.IntSlider(value=model.N, min=1000, max=1000000, step=1000, description='Population:')\n",
    "infection_rate_slider = widgets.FloatSlider(value=model.beta, min=0.1, max=2.0, step=0.1, description='Infection Rate:')\n",
    "recovery_rate_slider = widgets.FloatSlider(value=model.gamma, min=0.01, max=0.5, step=0.01, description='Recovery Rate:')\n",
    "initial_infected_slider = widgets.IntSlider(value=model.I0, min=10, max=1000, step=10, description='Initial Infected:')\n",
    "mortality_rate_slider = widgets.FloatSlider(value=model.mu, min=0.001, max=0.1, step=0.001, description='Mortality Rate:')\n",
    "\n",
    "# Function to update the plot based on the slider values\n",
    "def update_plot(population, infection_rate, recovery_rate, initial_infected, mortality_rate):\n",
    "    model = SIRModel3(population, infection_rate, recovery_rate, initial_infected, mortality_rate)\n",
    "    model.plot_novax(num_days=100)\n",
    "\n",
    "# Create an output widget for the plot\n",
    "plot_output = widgets.Output()\n",
    "\n",
    "# Define a function to handle widget changes\n",
    "def handle_slider_change(change):\n",
    "    plot_output.clear_output()\n",
    "    with plot_output:\n",
    "        update_plot(\n",
    "            population=population_slider.value,\n",
    "            infection_rate=infection_rate_slider.value,\n",
    "            recovery_rate=recovery_rate_slider.value,\n",
    "            initial_infected=initial_infected_slider.value,\n",
    "            mortality_rate=mortality_rate_slider.value\n",
    "        )\n",
    "\n",
    "# Observe slider changes and update the plot accordingly\n",
    "population_slider.observe(handle_slider_change, names='value')\n",
    "infection_rate_slider.observe(handle_slider_change, names='value')\n",
    "recovery_rate_slider.observe(handle_slider_change, names='value')\n",
    "initial_infected_slider.observe(handle_slider_change, names='value')\n",
    "mortality_rate_slider.observe(handle_slider_change, names='value')\n",
    "\n",
    "# Display the sliders and plot output\n",
    "\n",
    "display(population_slider, infection_rate_slider, recovery_rate_slider, initial_infected_slider, mortality_rate_slider)\n",
    "\n",
    "display(plot_output)\n",
    "\n"
   ]
  },
  {
   "attachments": {},
   "cell_type": "markdown",
   "metadata": {},
   "source": [
    "### EXTENSION: Model with a Vaccine Program\n",
    "When introducing the vaccine program we can see that we are able to 'flatten the curve'. All variables will decrease except mortality rate. This is explained by the simplicity of out model. It would be ideal and more realistic if the mortality rate was not given exogenously, but endogenously. "
   ]
  },
  {
   "cell_type": "code",
   "execution_count": 8,
   "metadata": {},
   "outputs": [
    {
     "data": {
      "application/vnd.jupyter.widget-view+json": {
       "model_id": "1b2842b3836f4486af887121538bfaeb",
       "version_major": 2,
       "version_minor": 0
      },
      "text/plain": [
       "IntSlider(value=100000, description='Population:', max=1000000, min=1000, step=1000)"
      ]
     },
     "metadata": {},
     "output_type": "display_data"
    },
    {
     "data": {
      "application/vnd.jupyter.widget-view+json": {
       "model_id": "84316ff818f34495b644062db06d87c1",
       "version_major": 2,
       "version_minor": 0
      },
      "text/plain": [
       "FloatSlider(value=0.4, description='Infection Rate:', max=2.0, min=0.1)"
      ]
     },
     "metadata": {},
     "output_type": "display_data"
    },
    {
     "data": {
      "application/vnd.jupyter.widget-view+json": {
       "model_id": "a8c81b26f6d949759cbeb9a1cf4b4ab6",
       "version_major": 2,
       "version_minor": 0
      },
      "text/plain": [
       "FloatSlider(value=0.1, description='Recovery Rate:', max=0.5, min=0.01, step=0.01)"
      ]
     },
     "metadata": {},
     "output_type": "display_data"
    },
    {
     "data": {
      "application/vnd.jupyter.widget-view+json": {
       "model_id": "fddb8a6bef8e40dc824b86761d1416e6",
       "version_major": 2,
       "version_minor": 0
      },
      "text/plain": [
       "IntSlider(value=100, description='Initial Infected:', max=1000, min=10, step=10)"
      ]
     },
     "metadata": {},
     "output_type": "display_data"
    },
    {
     "data": {
      "application/vnd.jupyter.widget-view+json": {
       "model_id": "ceb0d500cde847e499351c1d9cc38bf9",
       "version_major": 2,
       "version_minor": 0
      },
      "text/plain": [
       "FloatSlider(value=0.015, description='Mortality Rate:', max=0.1, min=0.001, step=0.001)"
      ]
     },
     "metadata": {},
     "output_type": "display_data"
    },
    {
     "data": {
      "application/vnd.jupyter.widget-view+json": {
       "model_id": "255df00194324c35969a6bc0e519d4f5",
       "version_major": 2,
       "version_minor": 0
      },
      "text/plain": [
       "FloatSlider(value=0.01, description='Vaccination Rate:', max=0.5, step=0.01)"
      ]
     },
     "metadata": {},
     "output_type": "display_data"
    },
    {
     "data": {
      "application/vnd.jupyter.widget-view+json": {
       "model_id": "0d0f430e6e48481d895009bdae4cc25b",
       "version_major": 2,
       "version_minor": 0
      },
      "text/plain": [
       "Output()"
      ]
     },
     "metadata": {},
     "output_type": "display_data"
    }
   ],
   "source": [
    "# Create an instance of the SIRModel3 class with the desired parameter values\n",
    "model = SIRModel3(population=100000, infection_rate=0.4, recovery_rate=0.1, initial_infected=100, mortality_rate=0.015, vaccination_rate=0.01)\n",
    "\n",
    "# Create interactive sliders for the model parameters\n",
    "population_slider = widgets.IntSlider(value=model.N, min=1000, max=1000000, step=1000, description='Population:')\n",
    "infection_rate_slider = widgets.FloatSlider(value=model.beta, min=0.1, max=2.0, step=0.1, description='Infection Rate:')\n",
    "recovery_rate_slider = widgets.FloatSlider(value=model.gamma, min=0.01, max=0.5, step=0.01, description='Recovery Rate:')\n",
    "initial_infected_slider = widgets.IntSlider(value=model.I0, min=10, max=1000, step=10, description='Initial Infected:')\n",
    "mortality_rate_slider = widgets.FloatSlider(value=model.mu, min=0.001, max=0.1, step=0.001, description='Mortality Rate:')\n",
    "vaccination_rate_slider = widgets.FloatSlider(value=model.V0 / model.N, min=0.0, max=0.5, step=0.01, description='Vaccination Rate:')\n",
    "display(population_slider, infection_rate_slider, recovery_rate_slider, initial_infected_slider, mortality_rate_slider, vaccination_rate_slider)\n",
    "\n",
    "# Create an output widget for the plot\n",
    "plot_output = widgets.Output()\n",
    "\n",
    "# Function to update the plot based on the slider values\n",
    "def update_plot(population, infection_rate, recovery_rate, initial_infected, mortality_rate, vaccination_rate):\n",
    "    plot_output.clear_output()\n",
    "    with plot_output:\n",
    "        model = SIRModel3(population, infection_rate, recovery_rate, initial_infected, mortality_rate, vaccination_rate)\n",
    "        model.plot(num_days=100, vaccination_rate=vaccination_rate)\n",
    "\n",
    "# Define a function to handle slider changes\n",
    "def handle_slider_change(change):\n",
    "    update_plot(\n",
    "        population=population_slider.value,\n",
    "        infection_rate=infection_rate_slider.value,\n",
    "        recovery_rate=recovery_rate_slider.value,\n",
    "        initial_infected=initial_infected_slider.value,\n",
    "        mortality_rate=mortality_rate_slider.value,\n",
    "        vaccination_rate=vaccination_rate_slider.value\n",
    "    )\n",
    "\n",
    "# Observe slider changes and update the plot accordingly\n",
    "population_slider.observe(handle_slider_change, names='value')\n",
    "infection_rate_slider.observe(handle_slider_change, names='value')\n",
    "recovery_rate_slider.observe(handle_slider_change, names='value')\n",
    "initial_infected_slider.observe(handle_slider_change, names='value')\n",
    "mortality_rate_slider.observe(handle_slider_change, names='value')\n",
    "vaccination_rate_slider.observe(handle_slider_change, names='value')\n",
    "\n",
    "# Display the plot output\n",
    "display(plot_output)\n"
   ]
  },
  {
   "attachments": {},
   "cell_type": "markdown",
   "metadata": {},
   "source": [
    "### Optimization of Vaccination rate to minimize deaths. \n",
    "The code find the vaccination rate that minimizes the mortality. The optimal vaccination rate that was obtained from the 'optimize_vaccination_rate` method is 0.999, which means that vaccinating almost the entire population is the best way to minimize the total number of deaths over the 100-day period. This is not surprising, as vaccination is one of the most effective measures to prevent the spread of infectious diseases.\n",
    "\n",
    "The total number of deaths with the optimal vaccination rate is 18.25, which is a relatively small number compared to the size of the population (1,000,000) and the initial number of infected people (100). This is a testament to the effectiveness of the vaccination strategy in controlling the spread of the disease.\n",
    "\n",
    "It is worth noting that the model assumes a constant vaccination rate over the 200-day period. In reality, the vaccination rate may vary over time due to factors such as vaccine availability, public perception, and government policies. Therefore, the optimal vaccination rate obtained from the model should be taken as a guideline rather than a definitive answer.\n",
    "\n",
    "By adding more variables to the model, the optimal vaccination rate would become more realistic. Also, the cost of the vaccine could have been included in order to measure the effect of the vaccine vs. the cost of it. "
   ]
  },
  {
   "cell_type": "code",
   "execution_count": 9,
   "metadata": {},
   "outputs": [
    {
     "name": "stdout",
     "output_type": "stream",
     "text": [
      "Optimal vaccination rate: 0.9999939459326207\n",
      "Total deaths with optimal vaccination rate: 18.252909861007275\n"
     ]
    }
   ],
   "source": [
    "optimal_vaccination_rate = model.optimize_vaccination_rate(num_days=100)\n",
    "print(\"Optimal vaccination rate:\", optimal_vaccination_rate.x)\n",
    "print(\"Total deaths with optimal vaccination rate:\", model.total_deaths(num_days=100, vaccination_rate=optimal_vaccination_rate.x))"
   ]
  },
  {
   "attachments": {},
   "cell_type": "markdown",
   "metadata": {},
   "source": [
    "## Conclusion \n",
    "In this project we have made a SIR-model that models the spread of an infectious disease wihtin a population. We extended the model to include vaccines and found the optimal vaccination rate. A possible extension to the model would be to add more variables in order for the model to be more precise or to model a shock where the disease got either more deadly or more infectious. \n"
   ]
  }
 ],
 "metadata": {
  "kernelspec": {
   "display_name": "base",
   "language": "python",
   "name": "python3"
  },
  "language_info": {
   "codemirror_mode": {
    "name": "ipython",
    "version": 3
   },
   "file_extension": ".py",
   "mimetype": "text/x-python",
   "name": "python",
   "nbconvert_exporter": "python",
   "pygments_lexer": "ipython3",
   "version": "3.9.16"
  },
  "orig_nbformat": 4
 },
 "nbformat": 4,
 "nbformat_minor": 2
}
