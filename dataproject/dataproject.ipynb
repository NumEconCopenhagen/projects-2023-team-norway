{
 "cells": [
  {
   "attachments": {},
   "cell_type": "markdown",
   "metadata": {},
   "source": [
    "# US PRESIDENTIAL ELECTIONS"
   ]
  },
  {
   "attachments": {},
   "cell_type": "markdown",
   "metadata": {},
   "source": [
    "## 1. Introduction\n",
    "In this project we import data from the US Census Bureau using API codes in order to retrieve data about the US population. We merge this dataset with a dataset on the presidential elections from MIT Election Data. We also try to do a Fixed Effect Estimation but have not suceeded in visualizing this just yet. Therefore, we visualize the election results in different ways in order to show how different visualizations can portray the results in another light. "
   ]
  },
  {
   "attachments": {},
   "cell_type": "markdown",
   "metadata": {},
   "source": [
    "#### 1.1 Importing and setting magics"
   ]
  },
  {
   "cell_type": "code",
   "execution_count": 1,
   "metadata": {},
   "outputs": [],
   "source": [
    "# Importing packages\n",
    "import pandas as pd\n",
    "import numpy as np\n",
    "import matplotlib.pyplot as plt\n",
    "import plotly.express as px\n",
    "import requests\n",
    "import warnings\n",
    "from numpy import linalg as la\n",
    "import plotly.graph_objects as go\n",
    "import ipywidgets as widgets\n",
    "from IPython.display import display, clear_output\n",
    "import LinearModelsWeek2_post as lm # This py-file is from the course Advanced Micro Economentrics and is not our own code!\n",
    "\n",
    "# autoreload modules when code is run\n",
    "%load_ext autoreload\n",
    "%autoreload 2"
   ]
  },
  {
   "attachments": {},
   "cell_type": "markdown",
   "metadata": {},
   "source": [
    "# 2. Read, clean and merge data"
   ]
  },
  {
   "attachments": {},
   "cell_type": "markdown",
   "metadata": {},
   "source": [
    "#### 2.1 US Census Data \n",
    "We import population data using API keys from US Census data, specifically the American Community Survey. \n",
    "1. We sign up in order to get acess to the data, then we make a variable with the acess code.\n",
    "2. Then we make a list of the years we want to get population data from and define the selected variables we want to import. \n",
    "3. We iterate through the list of years in order to get the data for each year and then we combine all of the years into one single dataframe. \n",
    "4. Then we make a loop that creates a dataframe containing data on population in the years we have selected.\n",
    "5. Now we have one dataset with all the population categories and years we need. \n",
    "6. We then change the state names to abbreviations to make it a bit more efficient and easier when visualizing.  "
   ]
  },
  {
   "cell_type": "code",
   "execution_count": 2,
   "metadata": {},
   "outputs": [
    {
     "name": "stdout",
     "output_type": "stream",
     "text": [
      "Num of rows: 208\n"
     ]
    },
    {
     "data": {
      "text/html": [
       "<div>\n",
       "<style scoped>\n",
       "    .dataframe tbody tr th:only-of-type {\n",
       "        vertical-align: middle;\n",
       "    }\n",
       "\n",
       "    .dataframe tbody tr th {\n",
       "        vertical-align: top;\n",
       "    }\n",
       "\n",
       "    .dataframe thead th {\n",
       "        text-align: right;\n",
       "    }\n",
       "</style>\n",
       "<table border=\"1\" class=\"dataframe\">\n",
       "  <thead>\n",
       "    <tr style=\"text-align: right;\">\n",
       "      <th></th>\n",
       "      <th>NAME</th>\n",
       "      <th>state</th>\n",
       "      <th>year</th>\n",
       "      <th>total_population</th>\n",
       "      <th>white_population</th>\n",
       "      <th>black_population</th>\n",
       "      <th>hispanic_population</th>\n",
       "    </tr>\n",
       "  </thead>\n",
       "  <tbody>\n",
       "    <tr>\n",
       "      <th>0</th>\n",
       "      <td>AL</td>\n",
       "      <td>01</td>\n",
       "      <td>2008</td>\n",
       "      <td>4633360</td>\n",
       "      <td>3174011</td>\n",
       "      <td>1209938</td>\n",
       "      <td>130220</td>\n",
       "    </tr>\n",
       "    <tr>\n",
       "      <th>1</th>\n",
       "      <td>AK</td>\n",
       "      <td>02</td>\n",
       "      <td>2008</td>\n",
       "      <td>683142</td>\n",
       "      <td>448329</td>\n",
       "      <td>25161</td>\n",
       "      <td>39661</td>\n",
       "    </tr>\n",
       "    <tr>\n",
       "      <th>2</th>\n",
       "      <td>AZ</td>\n",
       "      <td>04</td>\n",
       "      <td>2008</td>\n",
       "      <td>6324865</td>\n",
       "      <td>3700053</td>\n",
       "      <td>227282</td>\n",
       "      <td>1881878</td>\n",
       "    </tr>\n",
       "    <tr>\n",
       "      <th>3</th>\n",
       "      <td>AR</td>\n",
       "      <td>05</td>\n",
       "      <td>2008</td>\n",
       "      <td>2838143</td>\n",
       "      <td>2149766</td>\n",
       "      <td>439355</td>\n",
       "      <td>153630</td>\n",
       "    </tr>\n",
       "    <tr>\n",
       "      <th>4</th>\n",
       "      <td>CA</td>\n",
       "      <td>06</td>\n",
       "      <td>2008</td>\n",
       "      <td>36308527</td>\n",
       "      <td>15446196</td>\n",
       "      <td>2249404</td>\n",
       "      <td>13102161</td>\n",
       "    </tr>\n",
       "  </tbody>\n",
       "</table>\n",
       "</div>"
      ],
      "text/plain": [
       "  NAME state  year  total_population  white_population  black_population   \n",
       "0   AL    01  2008           4633360           3174011           1209938  \\\n",
       "1   AK    02  2008            683142            448329             25161   \n",
       "2   AZ    04  2008           6324865           3700053            227282   \n",
       "3   AR    05  2008           2838143           2149766            439355   \n",
       "4   CA    06  2008          36308527          15446196           2249404   \n",
       "\n",
       "   hispanic_population  \n",
       "0               130220  \n",
       "1                39661  \n",
       "2              1881878  \n",
       "3               153630  \n",
       "4             13102161  "
      ]
     },
     "execution_count": 2,
     "metadata": {},
     "output_type": "execute_result"
    }
   ],
   "source": [
    "# Census code\n",
    "census_api_key = '9028fd3fd9edc961350156ded10028cc74c92576' # This our personal code, it will work on your computer\n",
    "\n",
    "# list of years for Census API\n",
    "year_list = ['2009', '2012','2016','2020']\n",
    "\n",
    "# The variables of interest\n",
    "variables = {\n",
    "    'total_population': 'B01001_001E',\n",
    "    'white_population': 'B01001H_001E',\n",
    "    'black_population': 'B01001B_001E',\n",
    "    'hispanic_population': 'B01001I_001E'\n",
    "}\n",
    "\n",
    "# Making a loop in order to get datasets for the variables\n",
    "dfs = {}\n",
    "for var_name, var_code in variables.items():\n",
    "    df_list = []\n",
    "    for year in year_list:\n",
    "        url = f'https://api.census.gov/data/{year}/acs/acs5?get=NAME,{var_code}&for=state:*&key={census_api_key}'\n",
    "        response = requests.get(url)\n",
    "        _df = pd.DataFrame(response.json()[1:], columns=response.json()[0])\n",
    "        _df['year'] = year\n",
    "        df_list.append(_df)\n",
    "    df = pd.concat(df_list)\n",
    "    df[var_name] = df[var_code].astype(int)\n",
    "    df.drop(columns=[var_code], inplace=True)\n",
    "    dfs[var_name] = df\n",
    "\n",
    "# merging the population datasets into one big dataset\n",
    "merge_df = dfs['total_population']\n",
    "for var_name in ['white_population', 'black_population', 'hispanic_population']:\n",
    "    merge_df = pd.merge(merge_df, dfs[var_name], how='left', on=['state', 'year', 'NAME'])\n",
    "merge_df['NAME'] = merge_df['NAME'].str.upper()\n",
    "merge_df['year'] = merge_df['year'].replace(['2009'], '2008')\n",
    "merge_df['year'] = merge_df['year'].astype(int)\n",
    "print('Num of rows:', len(merge_df))\n",
    "\n",
    "# Removing Puerto Rico as they don't have voting rights in the presidential election\n",
    "merge_df = merge_df[( merge_df[\"NAME\"] != 'PUERTO RICO')] \n",
    "\n",
    "# creating a dictionary to change the full state names to state codes\n",
    "state_codes = {'ALABAMA': 'AL', 'ALASKA': 'AK', 'ARIZONA': 'AZ', 'ARKANSAS': 'AR', 'CALIFORNIA': 'CA',\n",
    "               'COLORADO': 'CO', 'CONNECTICUT': 'CT', 'DELAWARE': 'DE', 'DISTRICT OF COLUMBIA': 'DC', 'FLORIDA': 'FL', 'GEORGIA': 'GA',\n",
    "               'HAWAII': 'HI', 'IDAHO': 'ID', 'ILLINOIS': 'IL', 'INDIANA': 'IN', 'IOWA': 'IA', 'KANSAS': 'KS',\n",
    "               'KENTUCKY': 'KY', 'LOUISIANA': 'LA', 'MAINE': 'ME', 'MARYLAND': 'MD', 'MASSACHUSETTS': 'MA',\n",
    "               'MICHIGAN': 'MI', 'MINNESOTA': 'MN', 'MISSISSIPPI': 'MS', 'MISSOURI': 'MO', 'MONTANA': 'MT',\n",
    "               'NEBRASKA': 'NE', 'NEVADA': 'NV', 'NEW HAMPSHIRE': 'NH', 'NEW JERSEY': 'NJ', 'NEW MEXICO': 'NM',\n",
    "               'NEW YORK': 'NY', 'NORTH CAROLINA': 'NC', 'NORTH DAKOTA': 'ND', 'OHIO': 'OH', 'OKLAHOMA': 'OK',\n",
    "               'OREGON': 'OR', 'PENNSYLVANIA': 'PA', 'RHODE ISLAND': 'RI', 'SOUTH CAROLINA': 'SC',\n",
    "               'SOUTH DAKOTA': 'SD', 'TENNESSEE': 'TN', 'TEXAS': 'TX', 'UTAH': 'UT', 'VERMONT': 'VT',\n",
    "               'VIRGINIA': 'VA', 'WASHINGTON': 'WA', 'WEST VIRGINIA': 'WV', 'WISCONSIN': 'WI', 'WYOMING': 'WY'}\n",
    "\n",
    "# replace full state names with state codes\n",
    "merge_df['NAME'] = merge_df['NAME'].replace(state_codes)\n",
    "merge_df.head()\n"
   ]
  },
  {
   "attachments": {},
   "cell_type": "markdown",
   "metadata": {},
   "source": [
    "#### 2.2 MIT Election Data\n",
    "The second dataset is from MIT Election Data and contains information on number of votes for each party in every state for presidential elections from 1976 to 2020. \n",
    "1. We downloaded the csv file from the webpage and import the dataset.  \n",
    "2. We remove all the variables in the dataset we do not need, and also rename some of them in order to make it more intuitive and also for it to match the population dataset. We remove the other parties, 'OTHER' and 'LIBERTARIAN' as The Winner Takes All system makes them insignificant. \n",
    "3. Also, the population dataset only have data from 2005 and onwards. Therefore, we remove the years we do not need. \n",
    "4. We remove Puerto Rico as they do not have voting rights in the presidential elections.  \n",
    "5. Then we create a dicitionary with all the states codes in order to be able to visualize the results later.\n",
    "6. Lastly, we create a pivot table, going from long to wide, in order to only have one state observation and not two as we had previosly. In this process we also remove the column for party and rather add the party to the candidate_votes instead to know which party got the number of votes. "
   ]
  },
  {
   "cell_type": "code",
   "execution_count": 3,
   "metadata": {},
   "outputs": [],
   "source": [
    "# Loading the data \n",
    "pres = pd.read_csv('1976-2020-president.csv')\n",
    "\n",
    "# renaming the columns \n",
    "pres.rename(columns={'state':'NAME'}, inplace=True)\n",
    "\n",
    "\n",
    "# deleting the years we do not need, as the Community Service data only has data from 2005\n",
    "pres = pres[( pres[\"year\"] >= 2005 )] \n",
    "\n",
    "#deleting variables we do not need\n",
    "del pres['notes']\n",
    "del pres['state_cen']\n",
    "del pres['office']\n",
    "del pres['writein']\n",
    "del pres['version']\n",
    "del pres['state_fips']\n",
    "del pres['party_detailed']\n",
    "del pres['candidate']\n",
    "del pres['state_ic']\n",
    "del pres['state_po']\n",
    "\n",
    "# deleting votes that are not republican or democrat, justify due to winner takes all\n",
    "pres = pres[( pres[\"party_simplified\"] != 'OTHER')] \n",
    "pres = pres[( pres[\"party_simplified\"] != 'LIBERTARIAN')] \n",
    "\n",
    "pres.rename(columns={'party_simplified':'party'}, inplace=True)\n",
    "pres.reset_index(drop = True)\n",
    "pres.reset_index(drop = True, inplace = True)\n",
    "\n",
    "# Removing Puerto Rico\n",
    "pres = pres[( pres[\"NAME\"] != 'PUERTO RICO')] \n",
    "pres = pres.drop(index = 248)\n",
    "\n",
    "# create dictionary to map full state names to state codes\n",
    "state_codes = {'ALABAMA': 'AL', 'ALASKA': 'AK', 'ARIZONA': 'AZ', 'ARKANSAS': 'AR', 'CALIFORNIA': 'CA',\n",
    "               'COLORADO': 'CO', 'CONNECTICUT': 'CT', 'DELAWARE': 'DE', 'DISTRICT OF COLUMBIA': 'DC', 'FLORIDA': 'FL', 'GEORGIA': 'GA',\n",
    "               'HAWAII': 'HI', 'IDAHO': 'ID', 'ILLINOIS': 'IL', 'INDIANA': 'IN', 'IOWA': 'IA', 'KANSAS': 'KS',\n",
    "               'KENTUCKY': 'KY', 'LOUISIANA': 'LA', 'MAINE': 'ME', 'MARYLAND': 'MD', 'MASSACHUSETTS': 'MA',\n",
    "               'MICHIGAN': 'MI', 'MINNESOTA': 'MN', 'MISSISSIPPI': 'MS', 'MISSOURI': 'MO', 'MONTANA': 'MT',\n",
    "               'NEBRASKA': 'NE', 'NEVADA': 'NV', 'NEW HAMPSHIRE': 'NH', 'NEW JERSEY': 'NJ', 'NEW MEXICO': 'NM',\n",
    "               'NEW YORK': 'NY', 'NORTH CAROLINA': 'NC', 'NORTH DAKOTA': 'ND', 'OHIO': 'OH', 'OKLAHOMA': 'OK',\n",
    "               'OREGON': 'OR', 'PENNSYLVANIA': 'PA', 'RHODE ISLAND': 'RI', 'SOUTH CAROLINA': 'SC',\n",
    "               'SOUTH DAKOTA': 'SD', 'TENNESSEE': 'TN', 'TEXAS': 'TX', 'UTAH': 'UT', 'VERMONT': 'VT',\n",
    "               'VIRGINIA': 'VA', 'WASHINGTON': 'WA', 'WEST VIRGINIA': 'WV', 'WISCONSIN': 'WI', 'WYOMING': 'WY'}\n",
    "\n",
    "# replace full state names with state codes\n",
    "pres['NAME'] = pres['NAME'].replace(state_codes)\n",
    "\n",
    "# create a new column for party\n",
    "pres['party'] = pres['party'].apply(lambda x: x.lower())\n",
    "\n",
    "# create a pivot table with state, year and party as indices and candidatevotes as values\n",
    "pivot = pres.pivot_table(index=['NAME', 'year'], columns='party', values='candidatevotes')\n",
    "\n",
    "# rename columns\n",
    "pivot = pivot.rename(columns={'democrat': 'candidatevotes_dem', 'republican': 'candidatevotes_rep'})\n",
    "\n",
    "# reset index\n",
    "pres = pivot.reset_index()\n",
    "\n"
   ]
  },
  {
   "attachments": {},
   "cell_type": "markdown",
   "metadata": {},
   "source": [
    "#### 2.3 Merge\n",
    "We merge the two cleaned datasets into one dataset. "
   ]
  },
  {
   "attachments": {},
   "cell_type": "markdown",
   "metadata": {},
   "source": [
    "##### 2.3.1 Presidential and population data"
   ]
  },
  {
   "cell_type": "code",
   "execution_count": 4,
   "metadata": {},
   "outputs": [
    {
     "data": {
      "text/plain": [
       "array([['AK', '02', 2008, 683142, 448329, 25161, 39661, 123594.0,\n",
       "        193841.0],\n",
       "       ['AK', '02', 2012, 711139, 454689, 24219, 40371, 122640.0,\n",
       "        164676.0],\n",
       "       ['AK', '02', 2020, 736990, 439979, 23894, 53059, 153778.0,\n",
       "        189951.0],\n",
       "       ['AK', '02', 2016, 736855, 456575, 24443, 49031, 116454.0,\n",
       "        163387.0],\n",
       "       ['AL', '01', 2008, 4633360, 3174011, 1209938, 130220, 813479.0,\n",
       "        1266546.0]], dtype=object)"
      ]
     },
     "execution_count": 4,
     "metadata": {},
     "output_type": "execute_result"
    }
   ],
   "source": [
    "# Merging president and population data sets\n",
    "data = pd.merge(merge_df, pres, how='left', on=[ 'year', 'NAME' ])\n",
    "data_sorted = data.sort_values(by='NAME')\n",
    "np.array(data_sorted.head())"
   ]
  },
  {
   "attachments": {},
   "cell_type": "markdown",
   "metadata": {},
   "source": [
    "##### 2.3.2 Electoral college \n",
    "We also want to add the number of electoral college votes to the dataset. \n",
    "1. Firstly, we create a dictionary with  the number of electoral votes in every state.\n",
    "2. Then we make it into a dataframe\n",
    "3. Lastly, we merge thie electoral college dataframe with the dataset containing population and election results in order to get our final dataset. "
   ]
  },
  {
   "cell_type": "code",
   "execution_count": 5,
   "metadata": {},
   "outputs": [
    {
     "data": {
      "text/plain": [
       "array([['AK', '02', 2008, 683142, 448329, 25161, 39661, 123594.0,\n",
       "        193841.0, 3],\n",
       "       ['AK', '02', 2012, 711139, 454689, 24219, 40371, 122640.0,\n",
       "        164676.0, 3],\n",
       "       ['AK', '02', 2020, 736990, 439979, 23894, 53059, 153778.0,\n",
       "        189951.0, 3],\n",
       "       ['AK', '02', 2016, 736855, 456575, 24443, 49031, 116454.0,\n",
       "        163387.0, 3],\n",
       "       ['AL', '01', 2008, 4633360, 3174011, 1209938, 130220, 813479.0,\n",
       "        1266546.0, 9]], dtype=object)"
      ]
     },
     "execution_count": 5,
     "metadata": {},
     "output_type": "execute_result"
    }
   ],
   "source": [
    "# create dictionary of electoral votes by state and year\n",
    "electoral_votes = {\n",
    "    'State': ['Alabama', 'Alaska', 'Arizona', 'Arkansas', 'California', 'Colorado', 'Connecticut', 'Delaware', 'District of Columbia', 'Florida', 'Georgia', 'Hawaii', 'Idaho', 'Illinois', 'Indiana', 'Iowa', 'Kansas', 'Kentucky', 'Louisiana', 'Maine', 'Maryland', 'Massachusetts', 'Michigan', 'Minnesota', 'Mississippi', 'Missouri', 'Montana', 'Nebraska', 'Nevada', 'New Hampshire', 'New Jersey', 'New Mexico', 'New York', 'North Carolina', 'North Dakota', 'Ohio', 'Oklahoma', 'Oregon', 'Pennsylvania', 'Rhode Island', 'South Carolina', 'South Dakota', 'Tennessee', 'Texas', 'Utah', 'Vermont', 'Virginia', 'Washington', 'West Virginia', 'Wisconsin', 'Wyoming'],\n",
    "    'NAME': ['AL', 'AK', 'AZ', 'AR', 'CA', 'CO', 'CT', 'DE', 'FL', 'GA', 'HI', 'ID', 'IL', 'IN', 'IA', 'KS', 'KY', 'LA', 'ME', 'MD', 'MA', 'MI', 'MN', 'MS', 'MO', 'MT', 'NE', 'NV', 'NH', 'NJ', 'NM', 'NY', 'NC', 'ND', 'OH', 'OK', 'OR', 'PA', 'RI', 'SC', 'SD', 'TN', 'TX', 'UT', 'VT', 'VA', 'WA', 'WV', 'WI', 'WY', 'DC'],\n",
    "    '2008': [9, 3, 10, 6, 55, 9, 7, 3, 3, 27, 15, 4, 4, 21, 11, 7, 6, 8, 9, 4, 10, 12, 17, 10, 6, 11, 3, 5, 6, 4, 14, 5, 29, 15, 3, 18, 7, 7, 20, 4, 9, 3, 11, 38, 5, 3, 13, 12, 5, 10, 3],\n",
    "    '2012': [9, 3, 11, 6, 55, 9, 7, 3, 3, 29, 16, 4, 4, 20, 11, 6, 6, 8, 8, 4, 10, 11, 16, 10, 6, 10, 3, 5, 6, 4, 14, 5, 29, 15, 3, 18, 7, 7, 20, 4, 11, 3, 11, 38, 6, 3, 13, 12, 5, 10, 3],\n",
    "    '2016': [9, 3, 11, 6, 55, 9, 7, 3, 3, 29, 16, 4, 4, 20, 11, 6, 6, 8, 8, 4, 10, 11, 16, 10, 6, 10, 3, 3, 6, 6, 14, 5, 29, 15, 3, 18, 7, 7, 20, 4, 11, 3, 11, 38, 6, 3, 13, 12, 5, 10, 3],\n",
    "    '2020': [9, 3, 11, 6, 55, 9, 7, 3, 3, 29, 16, 4, 4, 20, 11, 6, 6, 8, 8, 4, 10, 11, 16, 10, 6, 10, 3, 3, 5, 6, 14, 5, 29, 15, 3, 18, 7, 7, 20, 4, 11, 3, 11, 38, 6, 3, 13, 12, 5, 10, 3]\n",
    "}\n",
    "\n",
    "# create DataFrame from dictionary\n",
    "ECV = pd.DataFrame(electoral_votes)\n",
    "ECV = pd.melt(ECV, id_vars='NAME', value_vars=['2008', '2012', '2016', '2020'])\n",
    "ECV = ECV.rename(columns={'variable': 'year'})\n",
    "ECV = ECV.rename(columns={'value': 'electoralvotes'})\n",
    "ECV[\"year\"] = ECV[\"year\"].astype(np.int64)\n",
    "\n",
    "# Merging data with electoral votess\n",
    "data = pd.merge(data, ECV, how='left', on=[ 'year', 'NAME' ])\n",
    "data_sorted = data.sort_values(by='NAME')\n",
    "np.array(data_sorted.head())"
   ]
  },
  {
   "attachments": {},
   "cell_type": "markdown",
   "metadata": {},
   "source": [
    "We also add a new dummy variable to our dataset. It takes the value 0 if the Democrats got more votes in one state, and 1 if the Republicans recieved the most votes. "
   ]
  },
  {
   "cell_type": "code",
   "execution_count": 6,
   "metadata": {},
   "outputs": [
    {
     "data": {
      "text/html": [
       "<div>\n",
       "<style scoped>\n",
       "    .dataframe tbody tr th:only-of-type {\n",
       "        vertical-align: middle;\n",
       "    }\n",
       "\n",
       "    .dataframe tbody tr th {\n",
       "        vertical-align: top;\n",
       "    }\n",
       "\n",
       "    .dataframe thead th {\n",
       "        text-align: right;\n",
       "    }\n",
       "</style>\n",
       "<table border=\"1\" class=\"dataframe\">\n",
       "  <thead>\n",
       "    <tr style=\"text-align: right;\">\n",
       "      <th></th>\n",
       "      <th>NAME</th>\n",
       "      <th>state</th>\n",
       "      <th>year</th>\n",
       "      <th>total_population</th>\n",
       "      <th>white_population</th>\n",
       "      <th>black_population</th>\n",
       "      <th>hispanic_population</th>\n",
       "      <th>candidatevotes_dem</th>\n",
       "      <th>candidatevotes_rep</th>\n",
       "      <th>electoralvotes</th>\n",
       "      <th>winner</th>\n",
       "    </tr>\n",
       "  </thead>\n",
       "  <tbody>\n",
       "    <tr>\n",
       "      <th>0</th>\n",
       "      <td>AL</td>\n",
       "      <td>01</td>\n",
       "      <td>2008</td>\n",
       "      <td>4633360</td>\n",
       "      <td>3174011</td>\n",
       "      <td>1209938</td>\n",
       "      <td>130220</td>\n",
       "      <td>813479.0</td>\n",
       "      <td>1266546.0</td>\n",
       "      <td>9</td>\n",
       "      <td>1</td>\n",
       "    </tr>\n",
       "    <tr>\n",
       "      <th>1</th>\n",
       "      <td>AK</td>\n",
       "      <td>02</td>\n",
       "      <td>2008</td>\n",
       "      <td>683142</td>\n",
       "      <td>448329</td>\n",
       "      <td>25161</td>\n",
       "      <td>39661</td>\n",
       "      <td>123594.0</td>\n",
       "      <td>193841.0</td>\n",
       "      <td>3</td>\n",
       "      <td>1</td>\n",
       "    </tr>\n",
       "    <tr>\n",
       "      <th>2</th>\n",
       "      <td>AZ</td>\n",
       "      <td>04</td>\n",
       "      <td>2008</td>\n",
       "      <td>6324865</td>\n",
       "      <td>3700053</td>\n",
       "      <td>227282</td>\n",
       "      <td>1881878</td>\n",
       "      <td>1034707.0</td>\n",
       "      <td>1230111.0</td>\n",
       "      <td>10</td>\n",
       "      <td>1</td>\n",
       "    </tr>\n",
       "    <tr>\n",
       "      <th>3</th>\n",
       "      <td>AR</td>\n",
       "      <td>05</td>\n",
       "      <td>2008</td>\n",
       "      <td>2838143</td>\n",
       "      <td>2149766</td>\n",
       "      <td>439355</td>\n",
       "      <td>153630</td>\n",
       "      <td>422310.0</td>\n",
       "      <td>638017.0</td>\n",
       "      <td>6</td>\n",
       "      <td>1</td>\n",
       "    </tr>\n",
       "    <tr>\n",
       "      <th>4</th>\n",
       "      <td>CA</td>\n",
       "      <td>06</td>\n",
       "      <td>2008</td>\n",
       "      <td>36308527</td>\n",
       "      <td>15446196</td>\n",
       "      <td>2249404</td>\n",
       "      <td>13102161</td>\n",
       "      <td>8274473.0</td>\n",
       "      <td>5011781.0</td>\n",
       "      <td>55</td>\n",
       "      <td>0</td>\n",
       "    </tr>\n",
       "    <tr>\n",
       "      <th>...</th>\n",
       "      <td>...</td>\n",
       "      <td>...</td>\n",
       "      <td>...</td>\n",
       "      <td>...</td>\n",
       "      <td>...</td>\n",
       "      <td>...</td>\n",
       "      <td>...</td>\n",
       "      <td>...</td>\n",
       "      <td>...</td>\n",
       "      <td>...</td>\n",
       "      <td>...</td>\n",
       "    </tr>\n",
       "    <tr>\n",
       "      <th>199</th>\n",
       "      <td>NV</td>\n",
       "      <td>32</td>\n",
       "      <td>2020</td>\n",
       "      <td>3030281</td>\n",
       "      <td>1460159</td>\n",
       "      <td>282722</td>\n",
       "      <td>875798</td>\n",
       "      <td>703486.0</td>\n",
       "      <td>669890.0</td>\n",
       "      <td>3</td>\n",
       "      <td>0</td>\n",
       "    </tr>\n",
       "    <tr>\n",
       "      <th>200</th>\n",
       "      <td>DE</td>\n",
       "      <td>10</td>\n",
       "      <td>2020</td>\n",
       "      <td>967679</td>\n",
       "      <td>595236</td>\n",
       "      <td>212795</td>\n",
       "      <td>91350</td>\n",
       "      <td>296268.0</td>\n",
       "      <td>200603.0</td>\n",
       "      <td>3</td>\n",
       "      <td>0</td>\n",
       "    </tr>\n",
       "    <tr>\n",
       "      <th>201</th>\n",
       "      <td>KY</td>\n",
       "      <td>21</td>\n",
       "      <td>2020</td>\n",
       "      <td>4461952</td>\n",
       "      <td>3751738</td>\n",
       "      <td>361230</td>\n",
       "      <td>167949</td>\n",
       "      <td>772474.0</td>\n",
       "      <td>1326646.0</td>\n",
       "      <td>6</td>\n",
       "      <td>1</td>\n",
       "    </tr>\n",
       "    <tr>\n",
       "      <th>202</th>\n",
       "      <td>SD</td>\n",
       "      <td>46</td>\n",
       "      <td>2020</td>\n",
       "      <td>879336</td>\n",
       "      <td>715328</td>\n",
       "      <td>18836</td>\n",
       "      <td>36088</td>\n",
       "      <td>150471.0</td>\n",
       "      <td>261043.0</td>\n",
       "      <td>11</td>\n",
       "      <td>1</td>\n",
       "    </tr>\n",
       "    <tr>\n",
       "      <th>203</th>\n",
       "      <td>TN</td>\n",
       "      <td>47</td>\n",
       "      <td>2020</td>\n",
       "      <td>6772268</td>\n",
       "      <td>4969371</td>\n",
       "      <td>1128806</td>\n",
       "      <td>377162</td>\n",
       "      <td>1143711.0</td>\n",
       "      <td>1852475.0</td>\n",
       "      <td>3</td>\n",
       "      <td>1</td>\n",
       "    </tr>\n",
       "  </tbody>\n",
       "</table>\n",
       "<p>204 rows × 11 columns</p>\n",
       "</div>"
      ],
      "text/plain": [
       "    NAME state  year  total_population  white_population  black_population   \n",
       "0     AL    01  2008           4633360           3174011           1209938  \\\n",
       "1     AK    02  2008            683142            448329             25161   \n",
       "2     AZ    04  2008           6324865           3700053            227282   \n",
       "3     AR    05  2008           2838143           2149766            439355   \n",
       "4     CA    06  2008          36308527          15446196           2249404   \n",
       "..   ...   ...   ...               ...               ...               ...   \n",
       "199   NV    32  2020           3030281           1460159            282722   \n",
       "200   DE    10  2020            967679            595236            212795   \n",
       "201   KY    21  2020           4461952           3751738            361230   \n",
       "202   SD    46  2020            879336            715328             18836   \n",
       "203   TN    47  2020           6772268           4969371           1128806   \n",
       "\n",
       "     hispanic_population  candidatevotes_dem  candidatevotes_rep   \n",
       "0                 130220            813479.0           1266546.0  \\\n",
       "1                  39661            123594.0            193841.0   \n",
       "2                1881878           1034707.0           1230111.0   \n",
       "3                 153630            422310.0            638017.0   \n",
       "4               13102161           8274473.0           5011781.0   \n",
       "..                   ...                 ...                 ...   \n",
       "199               875798            703486.0            669890.0   \n",
       "200                91350            296268.0            200603.0   \n",
       "201               167949            772474.0           1326646.0   \n",
       "202                36088            150471.0            261043.0   \n",
       "203               377162           1143711.0           1852475.0   \n",
       "\n",
       "     electoralvotes  winner  \n",
       "0                 9       1  \n",
       "1                 3       1  \n",
       "2                10       1  \n",
       "3                 6       1  \n",
       "4                55       0  \n",
       "..              ...     ...  \n",
       "199               3       0  \n",
       "200               3       0  \n",
       "201               6       1  \n",
       "202              11       1  \n",
       "203               3       1  \n",
       "\n",
       "[204 rows x 11 columns]"
      ]
     },
     "execution_count": 6,
     "metadata": {},
     "output_type": "execute_result"
    }
   ],
   "source": [
    "# Make winner dummy variable \n",
    "data['winner'] = pd.Series(data.apply(lambda row: 0 if float(row['candidatevotes_dem']) > float(row['candidatevotes_rep']) else 1, axis=1))\n",
    "data"
   ]
  },
  {
   "attachments": {},
   "cell_type": "markdown",
   "metadata": {},
   "source": [
    "## 3. Fixed Effect Estimation"
   ]
  },
  {
   "attachments": {},
   "cell_type": "markdown",
   "metadata": {},
   "source": [
    "Originally, we planned on running a regression where we estimate the elasticity of racial groups in the US to vote for the Democratic or Republican party. To check the robustness of the estimate we then could compare the result of the electoral votes in the presidential election, using the population data and the elasticity to create a hypotetical election result. If the estimates were to be of reliable, it would be possible to add a slider to the map you will see later changing the population groups. To elaborate, if the slider allows the reader to slide the black population and increase its size with for instance one percent, or decreace it, what would happened with the electoral college. This is of economic interest as it will allow for insight to to election results might change with changing demographics. Although the results are significant, we did not have time to incorporate them into our maps. Maybe we will be able to do so for the exam hand-in."
   ]
  },
  {
   "attachments": {},
   "cell_type": "markdown",
   "metadata": {},
   "source": [
    "#### 3.1 The Model\n",
    "$$\n",
    "\\begin{align}\n",
    "\\log(D_{s,e}) = \\beta^r \\log(P^g_{s,e}) + \\alpha_e + d_s + \\varepsilon^g_{s,e} \\\\\n",
    "\\log(R_{s,e}) = \\beta^r \\log(P^g_{s,e}) + \\alpha_e + d_s + \\varepsilon^g_{s,e} \n",
    "\\end{align}\n",
    "$$\n",
    "\n",
    "We regress for the Democratic and Republican presidential candidate where $D_{s,e}$ and $R_{s,e}$ are the fraction of the total votes in state $s$ in election year $e$. $\\varepsilon^g_{s,e}$ is a randomly distributed error with zero mean. $\\alpha^r_e$ captures the election year fixed effect (FE), $d^g_s$ captures the state specific FE. We are interested in the hetergenous responses by racial groups, indexed by $r$. Specifically, $\\beta^r$ captures the elasticity of each racial group to vote for the specific party.\n",
    "\n",
    "#### 3.2 Analysis of results\n",
    "Below you can read the results presented in a table. Althought the results are addressing an interesting topic, they are very likely biased. They could benefit from including more variables are the likeliness of an omitted variables bias is large. To address this issue, we could for instance include a instrumental variable. However, that is outside the scope of this assignment. Therefore, we do not use the estimates to anything inthe countinuing of this assigment. However, as describes prior to this, it could be interesting to see how the estimates of the races' inclination to vote for each party can predict an election results. And furthermore, how an increase of decrease in a population ratio of a race will change the electoral college. This is interesting as, in the case of the US, with growing racial minorities the electoral college will likely change in the years to come. "
   ]
  },
  {
   "cell_type": "code",
   "execution_count": 7,
   "metadata": {},
   "outputs": [
    {
     "name": "stdout",
     "output_type": "stream",
     "text": [
      "Pooled OLS for the Democrats\n",
      "Dependent variable: Log D\n",
      "\n",
      "             Beta      Se    t-values\n",
      "--------  -------  ------  ----------\n",
      "Constant  16.3761  7.2343      2.2637\n",
      "State     -0.0003  0.0011     -0.3072\n",
      "Year      -0.0082  0.0036     -2.2751\n",
      "White     -0.1376  0.0303     -4.5345\n",
      "Black      0.0480  0.0144      3.3236\n",
      "Hispanic   0.0606  0.0169      3.5829\n",
      "R² = 0.167\n",
      "σ² = 0.051\n",
      "Pooled OLS for the Republicans\n",
      "Dependent variable: Log R\n",
      "\n",
      "              Beta       Se    t-values\n",
      "--------  --------  -------  ----------\n",
      "Constant  -20.1226  10.1154     -1.9893\n",
      "State      -0.0002   0.0015     -0.1023\n",
      "Year        0.0083   0.0050      1.6518\n",
      "White       0.3529   0.0424      8.3176\n",
      "Black      -0.1188   0.0202     -5.8902\n",
      "Hispanic   -0.0803   0.0237     -3.3959\n",
      "R² = 0.290\n",
      "σ² = 0.100\n"
     ]
    },
    {
     "name": "stderr",
     "output_type": "stream",
     "text": [
      "/var/folders/c9/gm0j3w792kg3l1csp12p4vyw0000gn/T/ipykernel_16567/4139717156.py:9: DeprecationWarning: `np.float` is a deprecated alias for the builtin `float`. To silence this warning, use `float` by itself. Doing this will not modify any behavior and is safe. If you specifically wanted the numpy scalar type, use `np.float64` here.\n",
      "Deprecated in NumPy 1.20; for more details and guidance: https://numpy.org/devdocs/release/1.20.0-notes.html#deprecations\n",
      "  white = np.log(np.array(reg_data[:, 4], dtype=np.float))\n",
      "/var/folders/c9/gm0j3w792kg3l1csp12p4vyw0000gn/T/ipykernel_16567/4139717156.py:10: DeprecationWarning: `np.float` is a deprecated alias for the builtin `float`. To silence this warning, use `float` by itself. Doing this will not modify any behavior and is safe. If you specifically wanted the numpy scalar type, use `np.float64` here.\n",
      "Deprecated in NumPy 1.20; for more details and guidance: https://numpy.org/devdocs/release/1.20.0-notes.html#deprecations\n",
      "  black =  np.log(np.array(reg_data[:, 5], dtype=np.float))\n",
      "/var/folders/c9/gm0j3w792kg3l1csp12p4vyw0000gn/T/ipykernel_16567/4139717156.py:11: DeprecationWarning: `np.float` is a deprecated alias for the builtin `float`. To silence this warning, use `float` by itself. Doing this will not modify any behavior and is safe. If you specifically wanted the numpy scalar type, use `np.float64` here.\n",
      "Deprecated in NumPy 1.20; for more details and guidance: https://numpy.org/devdocs/release/1.20.0-notes.html#deprecations\n",
      "  hispanic = np.log(np.array(reg_data[:, 6], dtype=np.float))\n",
      "/var/folders/c9/gm0j3w792kg3l1csp12p4vyw0000gn/T/ipykernel_16567/4139717156.py:12: DeprecationWarning: `np.float` is a deprecated alias for the builtin `float`. To silence this warning, use `float` by itself. Doing this will not modify any behavior and is safe. If you specifically wanted the numpy scalar type, use `np.float64` here.\n",
      "Deprecated in NumPy 1.20; for more details and guidance: https://numpy.org/devdocs/release/1.20.0-notes.html#deprecations\n",
      "  state = np.array(reg_data[:,1], dtype=np.float)\n",
      "/var/folders/c9/gm0j3w792kg3l1csp12p4vyw0000gn/T/ipykernel_16567/4139717156.py:13: DeprecationWarning: `np.float` is a deprecated alias for the builtin `float`. To silence this warning, use `float` by itself. Doing this will not modify any behavior and is safe. If you specifically wanted the numpy scalar type, use `np.float64` here.\n",
      "Deprecated in NumPy 1.20; for more details and guidance: https://numpy.org/devdocs/release/1.20.0-notes.html#deprecations\n",
      "  year = np.array(reg_data[:,2], dtype=np.float)\n",
      "/var/folders/c9/gm0j3w792kg3l1csp12p4vyw0000gn/T/ipykernel_16567/4139717156.py:16: DeprecationWarning: `np.float` is a deprecated alias for the builtin `float`. To silence this warning, use `float` by itself. Doing this will not modify any behavior and is safe. If you specifically wanted the numpy scalar type, use `np.float64` here.\n",
      "Deprecated in NumPy 1.20; for more details and guidance: https://numpy.org/devdocs/release/1.20.0-notes.html#deprecations\n",
      "  y_dem = np.log(np.array((reg_data[:,7]/(reg_data[:,7] + reg_data[:,8])), dtype = np.float)).reshape(-1, 1)\n",
      "/var/folders/c9/gm0j3w792kg3l1csp12p4vyw0000gn/T/ipykernel_16567/4139717156.py:17: DeprecationWarning: `np.float` is a deprecated alias for the builtin `float`. To silence this warning, use `float` by itself. Doing this will not modify any behavior and is safe. If you specifically wanted the numpy scalar type, use `np.float64` here.\n",
      "Deprecated in NumPy 1.20; for more details and guidance: https://numpy.org/devdocs/release/1.20.0-notes.html#deprecations\n",
      "  y_rep = np.log(np.array((reg_data[:,8]/(reg_data[:,8] + reg_data[:,7])), dtype = np.float)).reshape(-1, 1)\n",
      "/Users/sivertdahle/opt/anaconda3/lib/python3.9/site-packages/tabulate/__init__.py:108: FutureWarning: elementwise comparison failed; returning scalar instead, but in the future will perform elementwise comparison\n",
      "  or (len(row) >= 2 and row[1] == SEPARATING_LINE)\n"
     ]
    }
   ],
   "source": [
    "# Changing the dataframe into an array for the regression\n",
    "reg_data = np.array(data)\n",
    "id_array = np.array(reg_data[:, 0])\n",
    "# Count how many observations we have. This returns a tuple with the unique IDs,\n",
    "# and the number of times each person is observed.\n",
    "unique_id = np.unique(id_array, return_counts=True)\n",
    "N = unique_id[0].size\n",
    "T = int(unique_id[1].mean())\n",
    "white = np.log(np.array(reg_data[:, 4], dtype=np.float))\n",
    "black =  np.log(np.array(reg_data[:, 5], dtype=np.float))\n",
    "hispanic = np.log(np.array(reg_data[:, 6], dtype=np.float))\n",
    "state = np.array(reg_data[:,1], dtype=np.float)\n",
    "year = np.array(reg_data[:,2], dtype=np.float)\n",
    "\n",
    "# Defining variables\n",
    "y_dem = np.log(np.array((reg_data[:,7]/(reg_data[:,7] + reg_data[:,8])), dtype = np.float)).reshape(-1, 1)\n",
    "y_rep = np.log(np.array((reg_data[:,8]/(reg_data[:,8] + reg_data[:,7])), dtype = np.float)).reshape(-1, 1)\n",
    "x = np.array([np.ones((y_dem.shape[0])),state,  year,white, black, hispanic]).T\n",
    "\n",
    "# Defining labels\n",
    "label_y_dem = 'Log D'\n",
    "label_y_rep = 'Log R'\n",
    "label_x = ['Constant', 'State', 'Year','White', 'Black', 'Hispanic']\n",
    "\n",
    "# Running av OLS for Dems\n",
    "ols_result_dem = lm.estimate(y_dem, x,N=N,T=T)\n",
    "lm.print_table(\n",
    "    (label_y_dem, label_x), ols_result_dem, title=\"Pooled OLS for the Democrats\", floatfmt='.4f'\n",
    ")\n",
    "\n",
    "# Running av OLS for reps\n",
    "ols_result_rep = lm.estimate(y_rep, x,N=N,T=T)\n",
    "lm.print_table(\n",
    "    (label_y_rep, label_x), ols_result_rep, title=\"Pooled OLS for the Republicans\", floatfmt='.4f'\n",
    ")"
   ]
  },
  {
   "attachments": {},
   "cell_type": "markdown",
   "metadata": {},
   "source": [
    "## 4. Visualization\n",
    "Different ways to visualize can have a \"HUUUGE\" impact on how the reader interprets the election results. In this section we display different visualizations of the election results from 2008 to 2020. \n",
    "\n",
    "For the states that have multiple electoral districts we have chosen to only include the biggest one, and thus forced them to operate with the winner takes all system on a state level. This was done due to simplicity. Therefore, there could be some minor errors in the number of electoral college votes given to a candidate in Maine and Nebraska (the only states that operate with this system)."
   ]
  },
  {
   "attachments": {},
   "cell_type": "markdown",
   "metadata": {},
   "source": [
    "#### 4.1 State map for the elections 2008-2020\n",
    "1. First we define the colors for the states to take, red for republican and blue for democrat. \n",
    "2. Then we define the output area of the map. \n",
    "3. We create a function that will update the map for each year as we want to add a dropdown menu. \n",
    "4. Then we code the figure, a choropleth map, and add the text to be displayed when navigating the map and more. \n",
    "5. Then we create a drop down menu in order for the reader to choose which year to be displayed. "
   ]
  },
  {
   "cell_type": "code",
   "execution_count": 8,
   "metadata": {},
   "outputs": [
    {
     "data": {
      "application/vnd.jupyter.widget-view+json": {
       "model_id": "7c1ac36a243c4058ac4ef2d689f5076a",
       "version_major": 2,
       "version_minor": 0
      },
      "text/plain": [
       "Output()"
      ]
     },
     "metadata": {},
     "output_type": "display_data"
    },
    {
     "data": {
      "application/vnd.plotly.v1+json": {
       "config": {
        "plotlyServerURL": "https://plot.ly"
       },
       "data": [
        {
         "colorscale": [
          [
           0,
           "#0000ff"
          ],
          [
           1,
           "#ff0000"
          ]
         ],
         "hovertemplate": "%{text}<extra></extra>",
         "locationmode": "USA-states",
         "locations": [
          "AL",
          "AK",
          "AZ",
          "AR",
          "CA",
          "CO",
          "CT",
          "DE",
          "DC",
          "FL",
          "GA",
          "HI",
          "ID",
          "IL",
          "IN",
          "IA",
          "KS",
          "KY",
          "LA",
          "ME",
          "MD",
          "MA",
          "MI",
          "MN",
          "MS",
          "MO",
          "MT",
          "NE",
          "NV",
          "NH",
          "NJ",
          "NM",
          "NY",
          "NC",
          "ND",
          "OH",
          "OK",
          "OR",
          "PA",
          "RI",
          "SC",
          "SD",
          "TN",
          "TX",
          "UT",
          "VT",
          "VA",
          "WA",
          "WV",
          "WI",
          "WY"
         ],
         "showscale": false,
         "text": [
          "AL<br>Democrat votes: 813,479.0<br>Republican votes: 1,266,546.0<br>Electoral College Votes: 9<br>Population: 4,633,360<br>Winner: Republican",
          "AK<br>Democrat votes: 123,594.0<br>Republican votes: 193,841.0<br>Electoral College Votes: 3<br>Population: 683,142<br>Winner: Republican",
          "AZ<br>Democrat votes: 1,034,707.0<br>Republican votes: 1,230,111.0<br>Electoral College Votes: 10<br>Population: 6,324,865<br>Winner: Republican",
          "AR<br>Democrat votes: 422,310.0<br>Republican votes: 638,017.0<br>Electoral College Votes: 6<br>Population: 2,838,143<br>Winner: Republican",
          "CA<br>Democrat votes: 8,274,473.0<br>Republican votes: 5,011,781.0<br>Electoral College Votes: 55<br>Population: 36,308,527<br>Winner: Democrat",
          "CO<br>Democrat votes: 1,288,576.0<br>Republican votes: 1,073,589.0<br>Electoral College Votes: 9<br>Population: 4,843,211<br>Winner: Democrat",
          "CT<br>Democrat votes: 997,772.0<br>Republican votes: 629,428.0<br>Electoral College Votes: 7<br>Population: 3,494,487<br>Winner: Democrat",
          "DE<br>Democrat votes: 255,459.0<br>Republican votes: 152,374.0<br>Electoral College Votes: 3<br>Population: 863,832<br>Winner: Democrat",
          "DC<br>Democrat votes: 245,800.0<br>Republican votes: 17,367.0<br>Electoral College Votes: 3<br>Population: 588,433<br>Winner: Democrat",
          "FL<br>Democrat votes: 4,282,074.0<br>Republican votes: 4,045,624.0<br>Electoral College Votes: 3<br>Population: 18,222,420<br>Winner: Democrat",
          "GA<br>Democrat votes: 1,844,123.0<br>Republican votes: 2,048,759.0<br>Electoral College Votes: 27<br>Population: 9,497,667<br>Winner: Republican",
          "HI<br>Democrat votes: 325,871.0<br>Republican votes: 120,566.0<br>Electoral College Votes: 15<br>Population: 1,280,241<br>Winner: Democrat",
          "ID<br>Democrat votes: 236,440.0<br>Republican votes: 403,012.0<br>Electoral College Votes: 4<br>Population: 1,492,573<br>Winner: Republican",
          "IL<br>Democrat votes: 3,419,348.0<br>Republican votes: 2,031,179.0<br>Electoral College Votes: 4<br>Population: 12,785,043<br>Winner: Democrat",
          "IN<br>Democrat votes: 1,374,039.0<br>Republican votes: 1,345,648.0<br>Electoral College Votes: 21<br>Population: 6,342,469<br>Winner: Democrat",
          "IA<br>Democrat votes: 828,940.0<br>Republican votes: 682,379.0<br>Electoral College Votes: 11<br>Population: 2,978,880<br>Winner: Democrat",
          "KS<br>Democrat votes: 514,765.0<br>Republican votes: 699,655.0<br>Electoral College Votes: 7<br>Population: 2,777,835<br>Winner: Republican",
          "KY<br>Democrat votes: 751,985.0<br>Republican votes: 1,048,462.0<br>Electoral College Votes: 6<br>Population: 4,252,000<br>Winner: Republican",
          "LA<br>Democrat votes: 782,989.0<br>Republican votes: 1,148,275.0<br>Electoral College Votes: 8<br>Population: 4,411,546<br>Winner: Republican",
          "ME<br>Democrat votes: 421,923.0<br>Republican votes: 295,273.0<br>Electoral College Votes: 9<br>Population: 1,316,380<br>Winner: Democrat",
          "MD<br>Democrat votes: 1,629,467.0<br>Republican votes: 959,862.0<br>Electoral College Votes: 4<br>Population: 5,637,418<br>Winner: Democrat",
          "MA<br>Democrat votes: 1,904,097.0<br>Republican votes: 1,108,854.0<br>Electoral College Votes: 10<br>Population: 6,511,176<br>Winner: Democrat",
          "MI<br>Democrat votes: 2,872,579.0<br>Republican votes: 2,048,639.0<br>Electoral College Votes: 12<br>Population: 10,039,208<br>Winner: Democrat",
          "MN<br>Democrat votes: 1,573,354.0<br>Republican votes: 1,275,409.0<br>Electoral College Votes: 17<br>Population: 5,188,581<br>Winner: Democrat",
          "MS<br>Democrat votes: 554,662.0<br>Republican votes: 724,597.0<br>Electoral College Votes: 10<br>Population: 2,922,240<br>Winner: Republican",
          "MO<br>Democrat votes: 1,441,911.0<br>Republican votes: 1,445,814.0<br>Electoral College Votes: 6<br>Population: 5,904,382<br>Winner: Republican",
          "MT<br>Democrat votes: 231,667.0<br>Republican votes: 242,763.0<br>Electoral College Votes: 11<br>Population: 956,257<br>Winner: Republican",
          "NE<br>Democrat votes: 333,319.0<br>Republican votes: 452,979.0<br>Electoral College Votes: 3<br>Population: 1,772,124<br>Winner: Republican",
          "NV<br>Democrat votes: 533,736.0<br>Republican votes: 412,827.0<br>Electoral College Votes: 5<br>Population: 2,545,763<br>Winner: Democrat",
          "NH<br>Democrat votes: 384,826.0<br>Republican votes: 316,534.0<br>Electoral College Votes: 6<br>Population: 1,315,419<br>Winner: Democrat",
          "NJ<br>Democrat votes: 2,215,422.0<br>Republican votes: 1,613,207.0<br>Electoral College Votes: 4<br>Population: 8,650,548<br>Winner: Democrat",
          "NM<br>Democrat votes: 472,422.0<br>Republican votes: 346,832.0<br>Electoral College Votes: 14<br>Population: 1,964,860<br>Winner: Democrat",
          "NY<br>Democrat votes: 4,645,332.0<br>Republican votes: 2,418,323.0<br>Electoral College Votes: 5<br>Population: 19,423,896<br>Winner: Democrat",
          "NC<br>Democrat votes: 2,142,651.0<br>Republican votes: 2,128,474.0<br>Electoral College Votes: 29<br>Population: 9,045,705<br>Winner: Democrat",
          "ND<br>Democrat votes: 141,278.0<br>Republican votes: 168,601.0<br>Electoral College Votes: 15<br>Population: 639,725<br>Winner: Republican",
          "OH<br>Democrat votes: 2,940,044.0<br>Republican votes: 2,677,820.0<br>Electoral College Votes: 3<br>Population: 11,511,858<br>Winner: Democrat",
          "OK<br>Democrat votes: 502,496.0<br>Republican votes: 960,165.0<br>Electoral College Votes: 18<br>Population: 3,610,073<br>Winner: Republican",
          "OR<br>Democrat votes: 1,037,291.0<br>Republican votes: 738,475.0<br>Electoral College Votes: 7<br>Population: 3,727,407<br>Winner: Democrat",
          "PA<br>Democrat votes: 3,276,363.0<br>Republican votes: 2,655,885.0<br>Electoral College Votes: 7<br>Population: 12,516,596<br>Winner: Democrat",
          "RI<br>Democrat votes: 296,571.0<br>Republican votes: 165,391.0<br>Electoral College Votes: 20<br>Population: 1,057,381<br>Winner: Democrat",
          "SC<br>Democrat votes: 862,449.0<br>Republican votes: 1,034,896.0<br>Electoral College Votes: 4<br>Population: 4,416,867<br>Winner: Republican",
          "SD<br>Democrat votes: 170,924.0<br>Republican votes: 203,054.0<br>Electoral College Votes: 9<br>Population: 796,513<br>Winner: Republican",
          "TN<br>Democrat votes: 1,087,437.0<br>Republican votes: 1,479,178.0<br>Electoral College Votes: 3<br>Population: 6,158,953<br>Winner: Republican",
          "TX<br>Democrat votes: 3,528,633.0<br>Republican votes: 4,479,328.0<br>Electoral College Votes: 11<br>Population: 23,819,042<br>Winner: Republican",
          "UT<br>Democrat votes: 327,670.0<br>Republican votes: 596,030.0<br>Electoral College Votes: 38<br>Population: 2,651,816<br>Winner: Republican",
          "VT<br>Democrat votes: 219,262.0<br>Republican votes: 98,974.0<br>Electoral College Votes: 5<br>Population: 620,414<br>Winner: Democrat",
          "VA<br>Democrat votes: 1,959,532.0<br>Republican votes: 1,725,005.0<br>Electoral College Votes: 3<br>Population: 7,721,730<br>Winner: Democrat",
          "WA<br>Democrat votes: 1,750,848.0<br>Republican votes: 1,229,216.0<br>Electoral College Votes: 13<br>Population: 6,465,755<br>Winner: Democrat",
          "WV<br>Democrat votes: 303,857.0<br>Republican votes: 397,466.0<br>Electoral College Votes: 12<br>Population: 1,811,403<br>Winner: Republican",
          "WI<br>Democrat votes: 1,677,211.0<br>Republican votes: 1,262,393.0<br>Electoral College Votes: 5<br>Population: 5,599,420<br>Winner: Democrat",
          "WY<br>Democrat votes: 82,868.0<br>Republican votes: 164,958.0<br>Electoral College Votes: 10<br>Population: 523,949<br>Winner: Republican"
         ],
         "type": "choropleth",
         "z": [
          1,
          1,
          1,
          1,
          0,
          0,
          0,
          0,
          0,
          0,
          1,
          0,
          1,
          0,
          0,
          0,
          1,
          1,
          1,
          0,
          0,
          0,
          0,
          0,
          1,
          1,
          1,
          1,
          0,
          0,
          0,
          0,
          0,
          0,
          1,
          0,
          1,
          0,
          0,
          0,
          1,
          1,
          1,
          1,
          1,
          0,
          0,
          0,
          1,
          0,
          1
         ]
        },
        {
         "lat": [
          32.8
         ],
         "line": {
          "color": "black",
          "width": 1
         },
         "locationmode": "USA-states",
         "lon": [
          -96.8
         ],
         "mode": "lines",
         "type": "scattergeo"
        }
       ],
       "layout": {
        "geo": {
         "countrycolor": "Black",
         "resolution": 110,
         "scope": "usa",
         "showcountries": true,
         "showsubunits": true,
         "subunitcolor": "Black",
         "visible": false
        },
        "template": {
         "data": {
          "bar": [
           {
            "error_x": {
             "color": "#2a3f5f"
            },
            "error_y": {
             "color": "#2a3f5f"
            },
            "marker": {
             "line": {
              "color": "#E5ECF6",
              "width": 0.5
             },
             "pattern": {
              "fillmode": "overlay",
              "size": 10,
              "solidity": 0.2
             }
            },
            "type": "bar"
           }
          ],
          "barpolar": [
           {
            "marker": {
             "line": {
              "color": "#E5ECF6",
              "width": 0.5
             },
             "pattern": {
              "fillmode": "overlay",
              "size": 10,
              "solidity": 0.2
             }
            },
            "type": "barpolar"
           }
          ],
          "carpet": [
           {
            "aaxis": {
             "endlinecolor": "#2a3f5f",
             "gridcolor": "white",
             "linecolor": "white",
             "minorgridcolor": "white",
             "startlinecolor": "#2a3f5f"
            },
            "baxis": {
             "endlinecolor": "#2a3f5f",
             "gridcolor": "white",
             "linecolor": "white",
             "minorgridcolor": "white",
             "startlinecolor": "#2a3f5f"
            },
            "type": "carpet"
           }
          ],
          "choropleth": [
           {
            "colorbar": {
             "outlinewidth": 0,
             "ticks": ""
            },
            "type": "choropleth"
           }
          ],
          "contour": [
           {
            "colorbar": {
             "outlinewidth": 0,
             "ticks": ""
            },
            "colorscale": [
             [
              0,
              "#0d0887"
             ],
             [
              0.1111111111111111,
              "#46039f"
             ],
             [
              0.2222222222222222,
              "#7201a8"
             ],
             [
              0.3333333333333333,
              "#9c179e"
             ],
             [
              0.4444444444444444,
              "#bd3786"
             ],
             [
              0.5555555555555556,
              "#d8576b"
             ],
             [
              0.6666666666666666,
              "#ed7953"
             ],
             [
              0.7777777777777778,
              "#fb9f3a"
             ],
             [
              0.8888888888888888,
              "#fdca26"
             ],
             [
              1,
              "#f0f921"
             ]
            ],
            "type": "contour"
           }
          ],
          "contourcarpet": [
           {
            "colorbar": {
             "outlinewidth": 0,
             "ticks": ""
            },
            "type": "contourcarpet"
           }
          ],
          "heatmap": [
           {
            "colorbar": {
             "outlinewidth": 0,
             "ticks": ""
            },
            "colorscale": [
             [
              0,
              "#0d0887"
             ],
             [
              0.1111111111111111,
              "#46039f"
             ],
             [
              0.2222222222222222,
              "#7201a8"
             ],
             [
              0.3333333333333333,
              "#9c179e"
             ],
             [
              0.4444444444444444,
              "#bd3786"
             ],
             [
              0.5555555555555556,
              "#d8576b"
             ],
             [
              0.6666666666666666,
              "#ed7953"
             ],
             [
              0.7777777777777778,
              "#fb9f3a"
             ],
             [
              0.8888888888888888,
              "#fdca26"
             ],
             [
              1,
              "#f0f921"
             ]
            ],
            "type": "heatmap"
           }
          ],
          "heatmapgl": [
           {
            "colorbar": {
             "outlinewidth": 0,
             "ticks": ""
            },
            "colorscale": [
             [
              0,
              "#0d0887"
             ],
             [
              0.1111111111111111,
              "#46039f"
             ],
             [
              0.2222222222222222,
              "#7201a8"
             ],
             [
              0.3333333333333333,
              "#9c179e"
             ],
             [
              0.4444444444444444,
              "#bd3786"
             ],
             [
              0.5555555555555556,
              "#d8576b"
             ],
             [
              0.6666666666666666,
              "#ed7953"
             ],
             [
              0.7777777777777778,
              "#fb9f3a"
             ],
             [
              0.8888888888888888,
              "#fdca26"
             ],
             [
              1,
              "#f0f921"
             ]
            ],
            "type": "heatmapgl"
           }
          ],
          "histogram": [
           {
            "marker": {
             "pattern": {
              "fillmode": "overlay",
              "size": 10,
              "solidity": 0.2
             }
            },
            "type": "histogram"
           }
          ],
          "histogram2d": [
           {
            "colorbar": {
             "outlinewidth": 0,
             "ticks": ""
            },
            "colorscale": [
             [
              0,
              "#0d0887"
             ],
             [
              0.1111111111111111,
              "#46039f"
             ],
             [
              0.2222222222222222,
              "#7201a8"
             ],
             [
              0.3333333333333333,
              "#9c179e"
             ],
             [
              0.4444444444444444,
              "#bd3786"
             ],
             [
              0.5555555555555556,
              "#d8576b"
             ],
             [
              0.6666666666666666,
              "#ed7953"
             ],
             [
              0.7777777777777778,
              "#fb9f3a"
             ],
             [
              0.8888888888888888,
              "#fdca26"
             ],
             [
              1,
              "#f0f921"
             ]
            ],
            "type": "histogram2d"
           }
          ],
          "histogram2dcontour": [
           {
            "colorbar": {
             "outlinewidth": 0,
             "ticks": ""
            },
            "colorscale": [
             [
              0,
              "#0d0887"
             ],
             [
              0.1111111111111111,
              "#46039f"
             ],
             [
              0.2222222222222222,
              "#7201a8"
             ],
             [
              0.3333333333333333,
              "#9c179e"
             ],
             [
              0.4444444444444444,
              "#bd3786"
             ],
             [
              0.5555555555555556,
              "#d8576b"
             ],
             [
              0.6666666666666666,
              "#ed7953"
             ],
             [
              0.7777777777777778,
              "#fb9f3a"
             ],
             [
              0.8888888888888888,
              "#fdca26"
             ],
             [
              1,
              "#f0f921"
             ]
            ],
            "type": "histogram2dcontour"
           }
          ],
          "mesh3d": [
           {
            "colorbar": {
             "outlinewidth": 0,
             "ticks": ""
            },
            "type": "mesh3d"
           }
          ],
          "parcoords": [
           {
            "line": {
             "colorbar": {
              "outlinewidth": 0,
              "ticks": ""
             }
            },
            "type": "parcoords"
           }
          ],
          "pie": [
           {
            "automargin": true,
            "type": "pie"
           }
          ],
          "scatter": [
           {
            "fillpattern": {
             "fillmode": "overlay",
             "size": 10,
             "solidity": 0.2
            },
            "type": "scatter"
           }
          ],
          "scatter3d": [
           {
            "line": {
             "colorbar": {
              "outlinewidth": 0,
              "ticks": ""
             }
            },
            "marker": {
             "colorbar": {
              "outlinewidth": 0,
              "ticks": ""
             }
            },
            "type": "scatter3d"
           }
          ],
          "scattercarpet": [
           {
            "marker": {
             "colorbar": {
              "outlinewidth": 0,
              "ticks": ""
             }
            },
            "type": "scattercarpet"
           }
          ],
          "scattergeo": [
           {
            "marker": {
             "colorbar": {
              "outlinewidth": 0,
              "ticks": ""
             }
            },
            "type": "scattergeo"
           }
          ],
          "scattergl": [
           {
            "marker": {
             "colorbar": {
              "outlinewidth": 0,
              "ticks": ""
             }
            },
            "type": "scattergl"
           }
          ],
          "scattermapbox": [
           {
            "marker": {
             "colorbar": {
              "outlinewidth": 0,
              "ticks": ""
             }
            },
            "type": "scattermapbox"
           }
          ],
          "scatterpolar": [
           {
            "marker": {
             "colorbar": {
              "outlinewidth": 0,
              "ticks": ""
             }
            },
            "type": "scatterpolar"
           }
          ],
          "scatterpolargl": [
           {
            "marker": {
             "colorbar": {
              "outlinewidth": 0,
              "ticks": ""
             }
            },
            "type": "scatterpolargl"
           }
          ],
          "scatterternary": [
           {
            "marker": {
             "colorbar": {
              "outlinewidth": 0,
              "ticks": ""
             }
            },
            "type": "scatterternary"
           }
          ],
          "surface": [
           {
            "colorbar": {
             "outlinewidth": 0,
             "ticks": ""
            },
            "colorscale": [
             [
              0,
              "#0d0887"
             ],
             [
              0.1111111111111111,
              "#46039f"
             ],
             [
              0.2222222222222222,
              "#7201a8"
             ],
             [
              0.3333333333333333,
              "#9c179e"
             ],
             [
              0.4444444444444444,
              "#bd3786"
             ],
             [
              0.5555555555555556,
              "#d8576b"
             ],
             [
              0.6666666666666666,
              "#ed7953"
             ],
             [
              0.7777777777777778,
              "#fb9f3a"
             ],
             [
              0.8888888888888888,
              "#fdca26"
             ],
             [
              1,
              "#f0f921"
             ]
            ],
            "type": "surface"
           }
          ],
          "table": [
           {
            "cells": {
             "fill": {
              "color": "#EBF0F8"
             },
             "line": {
              "color": "white"
             }
            },
            "header": {
             "fill": {
              "color": "#C8D4E3"
             },
             "line": {
              "color": "white"
             }
            },
            "type": "table"
           }
          ]
         },
         "layout": {
          "annotationdefaults": {
           "arrowcolor": "#2a3f5f",
           "arrowhead": 0,
           "arrowwidth": 1
          },
          "autotypenumbers": "strict",
          "coloraxis": {
           "colorbar": {
            "outlinewidth": 0,
            "ticks": ""
           }
          },
          "colorscale": {
           "diverging": [
            [
             0,
             "#8e0152"
            ],
            [
             0.1,
             "#c51b7d"
            ],
            [
             0.2,
             "#de77ae"
            ],
            [
             0.3,
             "#f1b6da"
            ],
            [
             0.4,
             "#fde0ef"
            ],
            [
             0.5,
             "#f7f7f7"
            ],
            [
             0.6,
             "#e6f5d0"
            ],
            [
             0.7,
             "#b8e186"
            ],
            [
             0.8,
             "#7fbc41"
            ],
            [
             0.9,
             "#4d9221"
            ],
            [
             1,
             "#276419"
            ]
           ],
           "sequential": [
            [
             0,
             "#0d0887"
            ],
            [
             0.1111111111111111,
             "#46039f"
            ],
            [
             0.2222222222222222,
             "#7201a8"
            ],
            [
             0.3333333333333333,
             "#9c179e"
            ],
            [
             0.4444444444444444,
             "#bd3786"
            ],
            [
             0.5555555555555556,
             "#d8576b"
            ],
            [
             0.6666666666666666,
             "#ed7953"
            ],
            [
             0.7777777777777778,
             "#fb9f3a"
            ],
            [
             0.8888888888888888,
             "#fdca26"
            ],
            [
             1,
             "#f0f921"
            ]
           ],
           "sequentialminus": [
            [
             0,
             "#0d0887"
            ],
            [
             0.1111111111111111,
             "#46039f"
            ],
            [
             0.2222222222222222,
             "#7201a8"
            ],
            [
             0.3333333333333333,
             "#9c179e"
            ],
            [
             0.4444444444444444,
             "#bd3786"
            ],
            [
             0.5555555555555556,
             "#d8576b"
            ],
            [
             0.6666666666666666,
             "#ed7953"
            ],
            [
             0.7777777777777778,
             "#fb9f3a"
            ],
            [
             0.8888888888888888,
             "#fdca26"
            ],
            [
             1,
             "#f0f921"
            ]
           ]
          },
          "colorway": [
           "#636efa",
           "#EF553B",
           "#00cc96",
           "#ab63fa",
           "#FFA15A",
           "#19d3f3",
           "#FF6692",
           "#B6E880",
           "#FF97FF",
           "#FECB52"
          ],
          "font": {
           "color": "#2a3f5f"
          },
          "geo": {
           "bgcolor": "white",
           "lakecolor": "white",
           "landcolor": "#E5ECF6",
           "showlakes": true,
           "showland": true,
           "subunitcolor": "white"
          },
          "hoverlabel": {
           "align": "left"
          },
          "hovermode": "closest",
          "mapbox": {
           "style": "light"
          },
          "paper_bgcolor": "white",
          "plot_bgcolor": "#E5ECF6",
          "polar": {
           "angularaxis": {
            "gridcolor": "white",
            "linecolor": "white",
            "ticks": ""
           },
           "bgcolor": "#E5ECF6",
           "radialaxis": {
            "gridcolor": "white",
            "linecolor": "white",
            "ticks": ""
           }
          },
          "scene": {
           "xaxis": {
            "backgroundcolor": "#E5ECF6",
            "gridcolor": "white",
            "gridwidth": 2,
            "linecolor": "white",
            "showbackground": true,
            "ticks": "",
            "zerolinecolor": "white"
           },
           "yaxis": {
            "backgroundcolor": "#E5ECF6",
            "gridcolor": "white",
            "gridwidth": 2,
            "linecolor": "white",
            "showbackground": true,
            "ticks": "",
            "zerolinecolor": "white"
           },
           "zaxis": {
            "backgroundcolor": "#E5ECF6",
            "gridcolor": "white",
            "gridwidth": 2,
            "linecolor": "white",
            "showbackground": true,
            "ticks": "",
            "zerolinecolor": "white"
           }
          },
          "shapedefaults": {
           "line": {
            "color": "#2a3f5f"
           }
          },
          "ternary": {
           "aaxis": {
            "gridcolor": "white",
            "linecolor": "white",
            "ticks": ""
           },
           "baxis": {
            "gridcolor": "white",
            "linecolor": "white",
            "ticks": ""
           },
           "bgcolor": "#E5ECF6",
           "caxis": {
            "gridcolor": "white",
            "linecolor": "white",
            "ticks": ""
           }
          },
          "title": {
           "x": 0.05
          },
          "xaxis": {
           "automargin": true,
           "gridcolor": "white",
           "linecolor": "white",
           "ticks": "",
           "title": {
            "standoff": 15
           },
           "zerolinecolor": "white",
           "zerolinewidth": 2
          },
          "yaxis": {
           "automargin": true,
           "gridcolor": "white",
           "linecolor": "white",
           "ticks": "",
           "title": {
            "standoff": 15
           },
           "zerolinecolor": "white",
           "zerolinewidth": 2
          }
         }
        },
        "title": {
         "text": "Electoral College Results 2008"
        }
       }
      }
     },
     "metadata": {},
     "output_type": "display_data"
    },
    {
     "data": {
      "application/vnd.jupyter.widget-view+json": {
       "model_id": "7bca5a2fbe4444ea82c26a06843818be",
       "version_major": 2,
       "version_minor": 0
      },
      "text/plain": [
       "Dropdown(description='Select a year:', options=(2008, 2012, 2016, 2020), value=2008)"
      ]
     },
     "metadata": {},
     "output_type": "display_data"
    }
   ],
   "source": [
    "# Define the colors for each value\n",
    "colors = [\"#0000ff\", \"#ff0000\"]\n",
    "\n",
    "# Define the output area for the map\n",
    "out = widgets.Output()\n",
    "display(out)\n",
    "\n",
    "# Define the function to update the map\n",
    "def update_map(year):\n",
    "    # Get the data for the selected year\n",
    "    group = data[data['year'] == year]\n",
    "    \n",
    "    state_codes = group['NAME']\n",
    "    values = [1 if rep_votes > dem_votes else 0 for rep_votes, dem_votes in zip(group['candidatevotes_rep'], group['candidatevotes_dem'])]\n",
    "    populations = data['total_population'].tolist()\n",
    "\n",
    "    fig = go.Figure(go.Choropleth(\n",
    "    locationmode=\"USA-states\",\n",
    "    locations=state_codes,\n",
    "    z=values,\n",
    "    text=[f\"{state}<br>\" +\n",
    "          f\"Democrat votes: {dem_votes:,}<br>\" +\n",
    "          f\"Republican votes: {rep_votes:,}<br>\" +\n",
    "          f\"Electoral College Votes: {elec_votes:,}<br>\" +\n",
    "          f\"Population: {population:,}<br>\" +\n",
    "          f\"Winner: {'Republican' if rep_votes > dem_votes else 'Democrat'}\"\n",
    "          for state, dem_votes, rep_votes, population, elec_votes in zip(group['NAME'], group['candidatevotes_dem'], group['candidatevotes_rep'], group['total_population'], group['electoralvotes'])],\n",
    "    hovertemplate=\"%{text}<extra></extra>\",\n",
    "    colorscale=[[i / (len(colors) - 1), c] for i, c in enumerate(colors)],\n",
    "    showscale=False\n",
    "    ))\n",
    "    \n",
    "    fig.add_trace(go.Scattergeo(\n",
    "        locationmode=\"USA-states\",\n",
    "        lon=[-96.8],\n",
    "        lat=[32.8],\n",
    "        mode=\"lines\",\n",
    "        line=dict(width=1, color=\"black\")\n",
    "    ))\n",
    "\n",
    "    \n",
    "    fig.update_geos(\n",
    "        visible=False, resolution=110, scope=\"usa\",\n",
    "        showcountries=True, countrycolor=\"Black\",\n",
    "        showsubunits=True, subunitcolor=\"Black\"\n",
    "    )\n",
    "    \n",
    "    #Adding the title \n",
    "    fig.update_layout(title=f\"Electoral College Results {year}\")\n",
    "    \n",
    "    with out:\n",
    "        clear_output(wait=True)\n",
    "        display(fig)  # Display the figure\n",
    "\n",
    "# Create the dropdown menu\n",
    "year_options = [2008, 2012, 2016, 2020]\n",
    "dropdown = widgets.Dropdown(options=year_options, description='Select a year:')\n",
    "\n",
    "# Define the callback function for the dropdown menu\n",
    "def dropdown_callback(change):\n",
    "    year = change.new\n",
    "    update_map(year)\n",
    "\n",
    "dropdown.observe(dropdown_callback, names='value')\n",
    "\n",
    "# Display the initial map\n",
    "update_map(year_options[0])\n",
    "\n",
    "# Display the dropdown menu\n",
    "display(dropdown)"
   ]
  },
  {
   "attachments": {},
   "cell_type": "markdown",
   "metadata": {},
   "source": [
    "In this map the election results for 2008, 2012, 2016 and 2020 is visualized. It is possible to choose the year you want to display from the drop down menu. Also, if you hold the mouse pointer over a state, it will display this information: State abbreviation, number of votes for each party, number of electoral college votes, population in the state in the given year, and lastly which party won the state. \n",
    "\n",
    "This visualization of the presidential election is quite standard, and it offers an intuitive way of interpreting the results as the state is colored in the party color of the winning party. The downside to this visialization is that it could look like the republican should have won in some year as there is a lot of red colored states. However, these states have few elecotral college votes as the population is small"
   ]
  },
  {
   "attachments": {},
   "cell_type": "markdown",
   "metadata": {},
   "source": [
    "#### 4.2 Continous color state map\n",
    "Here we visualize the share of Republican votes in order to show that some states are swing states. This shows that it is not as red and blue as we saw previously. "
   ]
  },
  {
   "cell_type": "code",
   "execution_count": 9,
   "metadata": {},
   "outputs": [],
   "source": [
    "# Make a new variable for the share of republican votes\n",
    "data['share_rep'] = data['candidatevotes_rep']/(data['candidatevotes_rep'] + data['candidatevotes_dem'])\n"
   ]
  },
  {
   "attachments": {},
   "cell_type": "markdown",
   "metadata": {},
   "source": [
    "We repeat the same steps as last time, however now we visualize the new variable ** share_rep** instead and make a continous colorscale instead of a discrete one. "
   ]
  },
  {
   "cell_type": "code",
   "execution_count": 1,
   "metadata": {},
   "outputs": [
    {
     "ename": "NameError",
     "evalue": "name 'widgets' is not defined",
     "output_type": "error",
     "traceback": [
      "\u001b[0;31m---------------------------------------------------------------------------\u001b[0m",
      "\u001b[0;31mNameError\u001b[0m                                 Traceback (most recent call last)",
      "Cell \u001b[0;32mIn[1], line 2\u001b[0m\n\u001b[1;32m      1\u001b[0m \u001b[39m# Define the output area for the map\u001b[39;00m\n\u001b[0;32m----> 2\u001b[0m out \u001b[39m=\u001b[39m widgets\u001b[39m.\u001b[39mOutput()\n\u001b[1;32m      3\u001b[0m display(out)\n\u001b[1;32m      5\u001b[0m \u001b[39m# Define the function to update the map\u001b[39;00m\n",
      "\u001b[0;31mNameError\u001b[0m: name 'widgets' is not defined"
     ]
    }
   ],
   "source": [
    "# Define the output area for the map\n",
    "out = widgets.Output()\n",
    "display(out)\n",
    "\n",
    "# Define the function to update the map\n",
    "def update_map(year):\n",
    "    # Get the data for the selected year\n",
    "    group = data[data['year'] == year]\n",
    "\n",
    "    state_codes = group['NAME']\n",
    "    values = group['share_rep'].tolist()\n",
    "    populations = data['total_population'].tolist()\n",
    "\n",
    "    fig = go.Figure(go.Choropleth(\n",
    "        locationmode=\"USA-states\",\n",
    "        locations=state_codes,\n",
    "        z=values,\n",
    "        text=[f\"{state}<br>\" +\n",
    "              f\"Democrat votes: {dem_votes:,}<br>\" +\n",
    "              f\"Republican votes: {rep_votes:,}<br>\" +\n",
    "              f\"Share republican: {share_rep:,}<br>\" +\n",
    "              f\"Electoral College Votes: {elec_votes:,}<br>\" +\n",
    "              f\"Population: {population:,}<br>\" +\n",
    "              f\"Winner: {'Republican' if rep_votes > dem_votes else 'Democrat'}\"\n",
    "              for state, dem_votes, rep_votes, share_rep, population, elec_votes in zip(group['NAME'], group['candidatevotes_dem'], group['candidatevotes_rep'], group['share_rep'], group['total_population'], group['electoralvotes'])],\n",
    "        hovertemplate=\"%{text}<extra></extra>\",\n",
    "        colorscale=[\n",
    "            [0, '#0000ff'],\n",
    "            [0.5, '#0000ff'],\n",
    "            [0.55, '#A020F0'],\n",
    "            [1, '#ff0000'],\n",
    "        ],\n",
    "        showscale=True\n",
    "    ))\n",
    "\n",
    "    fig.add_trace(go.Scattergeo(\n",
    "        locationmode=\"USA-states\",\n",
    "        lon=[-96.8],\n",
    "        lat=[32.8],\n",
    "        mode=\"lines\",\n",
    "        line=dict(width=1, color=\"black\")\n",
    "    ))\n",
    "\n",
    "    fig.update_geos(\n",
    "        visible=False, resolution=110, scope=\"usa\",\n",
    "        showcountries=True, countrycolor=\"Black\",\n",
    "        showsubunits=True, subunitcolor=\"Black\"\n",
    "    )\n",
    "\n",
    "    # Adding the title\n",
    "    fig.update_layout(title=f\"Electoral College Results {year}\")\n",
    "\n",
    "    with out:\n",
    "        clear_output(wait=True)\n",
    "        display(fig)  # Display the figure\n",
    "\n",
    "# Create the dropdown menu\n",
    "year_options = [2008, 2012, 2016, 2020]\n",
    "dropdown = widgets.Dropdown(options=year_options, description='Select a year:')\n",
    "\n",
    "# Define the callback function for the dropdown menu\n",
    "def dropdown_callback(change):\n",
    "    year = change.new\n",
    "    update_map(year)\n",
    "\n",
    "dropdown.observe(dropdown_callback, names='value')\n",
    "\n",
    "# Display the initial map\n",
    "update_map(year_options[0])\n",
    "\n",
    "# Display the dropdown menu\n",
    "display(dropdown)\n"
   ]
  },
  {
   "attachments": {},
   "cell_type": "markdown",
   "metadata": {},
   "source": [
    "This visualization show the share of republican votes in a state. If the share is low (lower than 0.4) the color is more blue, if the share is high the color is red, and if the share is close to 0.5 the color will be more purple. \n",
    "\n",
    "The purple states indicate swing states. These states do not vote the same every election and therefore are often refered to as battleground states as it is here the actual battle for the position as predident takes place. So in practice it is the swing states that decide the election, and also their vote becomes more \"valuable\" since if you are a Republican in California your vote does not count towards the final results that much, but in the swing states every vote can change the result of the whole election. \n",
    "\n",
    "By visualizing like this the election results show that some states are more in doubt and also give a better representation of the popular vote as you do not only see the color of the winning party but now also see the quantity of votes that did not win in the state. "
   ]
  },
  {
   "attachments": {},
   "cell_type": "markdown",
   "metadata": {},
   "source": [
    "## 5. Conclusion\n",
    "As we have shown in this data project the way the data is visualized could have an impact on the readers perception of the election results. \n",
    "\n",
    "Other visualiztions we can implement for the exam version:\n",
    "1. A map that is skewed in size relative to the total population in the state.\n",
    "2. A hexagon map where as california has 55 electoral votes, they will have 55 hexagons, while alabama has their number of electoral votes.\n",
    "3. A map including the regrssion results as described earlier. \n",
    "$$"
   ]
  }
 ],
 "metadata": {
  "kernelspec": {
   "display_name": "base",
   "language": "python",
   "name": "python3"
  },
  "language_info": {
   "codemirror_mode": {
    "name": "ipython",
    "version": 3
   },
   "file_extension": ".py",
   "mimetype": "text/x-python",
   "name": "python",
   "nbconvert_exporter": "python",
   "pygments_lexer": "ipython3",
   "version": "3.9.16"
  },
  "toc-autonumbering": true,
  "vscode": {
   "interpreter": {
    "hash": "47ef90cdf3004d3f859f1fb202523c65c07ba7c22eefd261b181f4744e2d0403"
   }
  }
 },
 "nbformat": 4,
 "nbformat_minor": 4
}
